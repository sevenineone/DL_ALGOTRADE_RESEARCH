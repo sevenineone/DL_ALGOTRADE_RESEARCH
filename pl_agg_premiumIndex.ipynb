{
 "cells": [
  {
   "cell_type": "code",
   "execution_count": 1,
   "metadata": {},
   "outputs": [],
   "source": [
    "import polars as pl\n",
    "import numpy as np\n",
    "import os\n",
    "import datetime\n",
    "import urllib.request\n",
    "from tqdm import tqdm\n",
    "import zipfile"
   ]
  },
  {
   "cell_type": "code",
   "execution_count": 2,
   "metadata": {},
   "outputs": [],
   "source": [
    "def get_klines_data(trading_pair: str, from_date: datetime, number_of_days: int, download_dir: str):\n",
    "    trading_pair = trading_pair.upper()\n",
    "    date_list = [from_date - datetime.timedelta(days=x) for x in range(1, number_of_days + 1)]\n",
    "    os.makedirs(download_dir, exist_ok=True)\n",
    "    data = pl.DataFrame()\n",
    "    print(f\"DOWNLOADING {number_of_days} FILES TO {download_dir} AND GENERATING premium index klines\")\n",
    "    for current_date in tqdm(date_list):\n",
    "        try:\n",
    "            zip_file_path = f\"./{download_dir}/{trading_pair}_{current_date.strftime('%Y-%m-%d')}\"\n",
    "            urllib.request.urlretrieve(f\"https://data.binance.vision/data/futures/um/daily/premiumIndexKlines/{trading_pair}/1m/{trading_pair}-1m-{current_date.strftime('%Y-%m-%d')}.zip\", zip_file_path)\n",
    "            with zipfile.ZipFile(zip_file_path, 'r') as zip_ref:\n",
    "                zip_ref.extractall(download_dir)\n",
    "            os.remove(zip_file_path)\n",
    "            file = f\"./{download_dir}/{trading_pair}-1m-{current_date.strftime('%Y-%m-%d')}.csv\"\n",
    "            downloaded = pl.read_csv(file)\n",
    "            os.remove(file)\n",
    "            downloaded = downloaded.select(pl.col([\"close_time\", \"open\", \"high\", \"low\", \"close\"]))\n",
    "            downloaded = downloaded.rename({\"close_time\": \"time\"})\n",
    "            downloaded = downloaded.lazy().with_columns(pl.from_epoch(\"time\", unit='ms'))\n",
    "            downloaded = downloaded.lazy().with_columns(pl.from_epoch(\"time\", unit='us')).collect()\n",
    "            data = pl.concat([data, downloaded])\n",
    "        except Exception as e:\n",
    "            print(f\"Something went wrong with {trading_pair} {current_date}: {e}\")\n",
    "    return data"
   ]
  },
  {
   "cell_type": "code",
   "execution_count": 3,
   "metadata": {},
   "outputs": [
    {
     "name": "stdout",
     "output_type": "stream",
     "text": [
      "DOWNLOADING 136 FILES TO SOLUSDT_trades AND GENERATING premium index klines\n"
     ]
    },
    {
     "name": "stderr",
     "output_type": "stream",
     "text": [
      "100%|██████████| 136/136 [02:57<00:00,  1.31s/it]\n"
     ]
    }
   ],
   "source": [
    "trading_pair = \"ETHUSDT\"\n",
    "trading_pair = trading_pair.upper()\n",
    "from_date = datetime.datetime.strptime('23032023', \"%d%m%Y\").date()\n",
    "download_dir = f\"./{trading_pair}_daily_trades_data_{from_date.strftime('%Y-%m-%d')}\"\n",
    "df = get_klines_data(trading_pair, from_date, 136, \"SOLUSDT_trades\")"
   ]
  },
  {
   "cell_type": "code",
   "execution_count": 4,
   "metadata": {},
   "outputs": [
    {
     "data": {
      "text/plain": [
       "(195840, 5)"
      ]
     },
     "execution_count": 4,
     "metadata": {},
     "output_type": "execute_result"
    }
   ],
   "source": [
    "df.shape"
   ]
  },
  {
   "cell_type": "code",
   "execution_count": 5,
   "metadata": {},
   "outputs": [
    {
     "data": {
      "text/html": [
       "<div><style>\n",
       ".dataframe > thead > tr > th,\n",
       ".dataframe > tbody > tr > td {\n",
       "  text-align: right;\n",
       "}\n",
       "</style>\n",
       "<small>shape: (30, 5)</small><table border=\"1\" class=\"dataframe\"><thead><tr><th>time</th><th>open</th><th>high</th><th>low</th><th>close</th></tr><tr><td>datetime[μs]</td><td>f64</td><td>f64</td><td>f64</td><td>f64</td></tr></thead><tbody><tr><td>2023-03-22 00:00:59.999</td><td>-0.000692</td><td>-0.000384</td><td>-0.000791</td><td>-0.000616</td></tr><tr><td>2023-03-22 00:01:59.999</td><td>-0.000597</td><td>-0.000199</td><td>-0.000597</td><td>-0.000472</td></tr><tr><td>2023-03-22 00:02:59.999</td><td>-0.000337</td><td>-0.000174</td><td>-0.000482</td><td>-0.000306</td></tr><tr><td>2023-03-22 00:03:59.999</td><td>-0.000394</td><td>-0.000133</td><td>-0.000496</td><td>-0.000229</td></tr><tr><td>2023-03-22 00:04:59.999</td><td>-0.000284</td><td>-0.000207</td><td>-0.000583</td><td>-0.00022</td></tr><tr><td>2023-03-22 00:05:59.999</td><td>-0.000385</td><td>-0.000344</td><td>-0.000591</td><td>-0.000495</td></tr><tr><td>2023-03-22 00:06:59.999</td><td>-0.000542</td><td>-0.00005</td><td>-0.000672</td><td>-0.00005</td></tr><tr><td>2023-03-22 00:07:59.999</td><td>-0.000549</td><td>-0.000386</td><td>-0.000638</td><td>-0.000599</td></tr><tr><td>2023-03-22 00:08:59.999</td><td>-0.000172</td><td>-0.000172</td><td>-0.000497</td><td>-0.000313</td></tr><tr><td>2023-03-22 00:09:59.999</td><td>-0.000496</td><td>-0.000433</td><td>-0.000647</td><td>-0.0005</td></tr><tr><td>2023-03-22 00:10:59.999</td><td>-0.000592</td><td>-0.000385</td><td>-0.000592</td><td>-0.000385</td></tr><tr><td>2023-03-22 00:11:59.999</td><td>-0.00058</td><td>-0.000241</td><td>-0.000596</td><td>-0.000444</td></tr><tr><td>&hellip;</td><td>&hellip;</td><td>&hellip;</td><td>&hellip;</td><td>&hellip;</td></tr><tr><td>2023-03-22 00:18:59.999</td><td>-0.00039</td><td>-0.000303</td><td>-0.000501</td><td>-0.000501</td></tr><tr><td>2023-03-22 00:19:59.999</td><td>-0.000589</td><td>-0.00031</td><td>-0.001164</td><td>-0.000343</td></tr><tr><td>2023-03-22 00:20:59.999</td><td>-0.000348</td><td>-0.000139</td><td>-0.000561</td><td>-0.000561</td></tr><tr><td>2023-03-22 00:21:59.999</td><td>-0.000566</td><td>-0.000265</td><td>-0.000619</td><td>-0.000466</td></tr><tr><td>2023-03-22 00:22:59.999</td><td>-0.000427</td><td>-0.000399</td><td>-0.000658</td><td>-0.000454</td></tr><tr><td>2023-03-22 00:23:59.999</td><td>-0.000463</td><td>-0.000384</td><td>-0.00057</td><td>-0.00057</td></tr><tr><td>2023-03-22 00:24:59.999</td><td>-0.000443</td><td>-0.000399</td><td>-0.000675</td><td>-0.00057</td></tr><tr><td>2023-03-22 00:25:59.999</td><td>-0.000486</td><td>-0.000261</td><td>-0.000518</td><td>-0.00039</td></tr><tr><td>2023-03-22 00:26:59.999</td><td>-0.00042</td><td>-0.000272</td><td>-0.000676</td><td>-0.000355</td></tr><tr><td>2023-03-22 00:27:59.999</td><td>-0.000323</td><td>-0.000323</td><td>-0.000624</td><td>-0.000622</td></tr><tr><td>2023-03-22 00:28:59.999</td><td>-0.000616</td><td>-0.000404</td><td>-0.000629</td><td>-0.000404</td></tr><tr><td>2023-03-22 00:29:59.999</td><td>-0.000427</td><td>-0.000373</td><td>-0.000728</td><td>-0.000568</td></tr></tbody></table></div>"
      ],
      "text/plain": [
       "shape: (30, 5)\n",
       "┌─────────────────────────┬───────────┬───────────┬───────────┬───────────┐\n",
       "│ time                    ┆ open      ┆ high      ┆ low       ┆ close     │\n",
       "│ ---                     ┆ ---       ┆ ---       ┆ ---       ┆ ---       │\n",
       "│ datetime[μs]            ┆ f64       ┆ f64       ┆ f64       ┆ f64       │\n",
       "╞═════════════════════════╪═══════════╪═══════════╪═══════════╪═══════════╡\n",
       "│ 2023-03-22 00:00:59.999 ┆ -0.000692 ┆ -0.000384 ┆ -0.000791 ┆ -0.000616 │\n",
       "│ 2023-03-22 00:01:59.999 ┆ -0.000597 ┆ -0.000199 ┆ -0.000597 ┆ -0.000472 │\n",
       "│ 2023-03-22 00:02:59.999 ┆ -0.000337 ┆ -0.000174 ┆ -0.000482 ┆ -0.000306 │\n",
       "│ 2023-03-22 00:03:59.999 ┆ -0.000394 ┆ -0.000133 ┆ -0.000496 ┆ -0.000229 │\n",
       "│ …                       ┆ …         ┆ …         ┆ …         ┆ …         │\n",
       "│ 2023-03-22 00:26:59.999 ┆ -0.00042  ┆ -0.000272 ┆ -0.000676 ┆ -0.000355 │\n",
       "│ 2023-03-22 00:27:59.999 ┆ -0.000323 ┆ -0.000323 ┆ -0.000624 ┆ -0.000622 │\n",
       "│ 2023-03-22 00:28:59.999 ┆ -0.000616 ┆ -0.000404 ┆ -0.000629 ┆ -0.000404 │\n",
       "│ 2023-03-22 00:29:59.999 ┆ -0.000427 ┆ -0.000373 ┆ -0.000728 ┆ -0.000568 │\n",
       "└─────────────────────────┴───────────┴───────────┴───────────┴───────────┘"
      ]
     },
     "execution_count": 5,
     "metadata": {},
     "output_type": "execute_result"
    }
   ],
   "source": [
    "df.head(30)"
   ]
  },
  {
   "cell_type": "code",
   "execution_count": 6,
   "metadata": {},
   "outputs": [],
   "source": [
    "df.write_parquet(\"./ETHUSDT_PREMIUM_INDEX_136_23032023.parquet\")"
   ]
  }
 ],
 "metadata": {
  "kernelspec": {
   "display_name": "rl",
   "language": "python",
   "name": "python3"
  },
  "language_info": {
   "codemirror_mode": {
    "name": "ipython",
    "version": 3
   },
   "file_extension": ".py",
   "mimetype": "text/x-python",
   "name": "python",
   "nbconvert_exporter": "python",
   "pygments_lexer": "ipython3",
   "version": "3.8.15"
  },
  "orig_nbformat": 4
 },
 "nbformat": 4,
 "nbformat_minor": 2
}
