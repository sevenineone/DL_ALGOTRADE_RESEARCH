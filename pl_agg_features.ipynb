{
 "cells": [
  {
   "cell_type": "code",
   "execution_count": 1,
   "metadata": {},
   "outputs": [],
   "source": [
    "import polars as pl\n",
    "import numpy as np\n",
    "import os\n",
    "import datetime\n",
    "import urllib.request\n",
    "from tqdm import tqdm\n",
    "import zipfile\n",
    "from datetime import date\n",
    "import math"
   ]
  },
  {
   "cell_type": "code",
   "execution_count": 2,
   "metadata": {},
   "outputs": [],
   "source": [
    "def get_features_df(trades_df):\n",
    "    \n",
    "    def weighted_avg_and_std(values, weights):\n",
    "        try:\n",
    "            average = np.average(values, weights=weights)\n",
    "            variance = np.average((values-average)**2, weights=weights)\n",
    "        except:\n",
    "            average = np.average(values)\n",
    "            variance = np.average((values-average)**2)\n",
    "        return (average, math.sqrt(variance))\n",
    "    \n",
    "    def avg(values):\n",
    "        try:\n",
    "            return np.average(values)\n",
    "        except Exception as e:\n",
    "            print(f\"AVG ERR: {e}\")\n",
    "            return 0\n",
    "        \n",
    "    def std(values):\n",
    "        try:\n",
    "            return np.std(values)\n",
    "        except Exception as e:\n",
    "            print(f\"STD ERR: {e}\")\n",
    "            return 0\n",
    "\n",
    "    def features(x):\n",
    "        dt = x[0]\n",
    "        price = np.array(x[1])\n",
    "        volume = np.array(x[2])\n",
    "        buy_or_sell = np.array(x[3])\n",
    "\n",
    "        buy_price = price[buy_or_sell]\n",
    "        buy_volume = volume[buy_or_sell]\n",
    "        sell_price = price[np.invert(buy_or_sell)]\n",
    "        sell_volume = volume[np.invert(buy_or_sell)]\n",
    "        buy_cnt = len(buy_price)\n",
    "        sell_cnt = len(sell_price)\n",
    "        \n",
    "        buy_volume_sum = sum(buy_volume)\n",
    "        sell_volume_sum = sum(sell_volume)\n",
    "        delta_volume_sum = buy_volume_sum - sell_volume_sum\n",
    "        \n",
    "        buy_volume_avg = avg(buy_volume)\n",
    "        sell_volume_avg = avg(sell_volume)\n",
    "        delta_volume_avg = buy_volume_avg - sell_volume_avg\n",
    "        \n",
    "        buy_volume_std = std(buy_volume)\n",
    "        sell_volume_std = std(sell_volume)\n",
    "        delta_volume_std = buy_volume_std - sell_volume_std\n",
    "        \n",
    "        buy_avg, buy_std = weighted_avg_and_std(buy_price, buy_volume)\n",
    "        sell_avg, sell_std = weighted_avg_and_std(sell_price, sell_volume)\n",
    "        \n",
    "        df = (\n",
    "            dt, \n",
    "            buy_cnt, \n",
    "            sell_cnt, \n",
    "            buy_avg, \n",
    "            sell_avg, \n",
    "            buy_std, \n",
    "            sell_std, \n",
    "            buy_volume_sum,\n",
    "            sell_volume_sum ,\n",
    "            delta_volume_sum,\n",
    "            buy_volume_avg,\n",
    "            sell_volume_avg,\n",
    "            delta_volume_avg,\n",
    "            buy_volume_std,\n",
    "            sell_volume_std,\n",
    "            delta_volume_std,\n",
    "            )\n",
    "        return df\n",
    "\n",
    "    trades_df = trades_df.lazy().with_columns(pl.from_epoch(\"time\", unit='ms'))\n",
    "    trades_df = trades_df.lazy().with_columns(pl.from_epoch(\"time\", unit='us')).collect()\n",
    "\n",
    "    periods = [\"5\", \"10\", \"30\", \"60\"]\n",
    "    features_df = trades_df.select(pl.col(\"time\").dt.truncate(\"1m\")).unique(maintain_order=True)\n",
    "    features_df = features_df.with_columns(pl.col(\"time\") + pl.duration(minutes=1))\n",
    "\n",
    "    for window in periods:\n",
    "        df = trades_df.groupby_dynamic(\"time\", every=\"1m\", period=f\"{window}s\", closed=\"left\", offset=f\"-{window}s\", include_boundaries=True).agg(pl.col([\"price\", \"qty\", \"is_buyer_maker\"]))\n",
    "        df = df.select(pl.col([\"_upper_boundary\", \"price\", \"qty\", \"is_buyer_maker\"]))\n",
    "        \n",
    "        df = df.rename({\"_upper_boundary\": \"time\"})\n",
    "        df = df.apply(lambda x: features(x))\n",
    "        df = df.rename({\"column_0\": \"time\", \n",
    "                        \"column_1\": f\"buy_cnt_{window}\", \n",
    "                        \"column_2\": f\"sell_cnt_{window}\", \n",
    "                        \"column_3\": f\"buy_avg_{window}\", \n",
    "                        \"column_4\": f\"sell_avg_{window}\", \n",
    "                        \"column_5\": f\"buy_std_{window}\", \n",
    "                        \"column_6\": f\"sell_std_{window}\",\n",
    "                        \"column_7\": f\"buy_volume_sum_{window}\",\n",
    "                        \"column_8\": f\"sell_volume_sum_{window}\",\n",
    "                        \"column_9\": f\"delta_volume_sum_{window}\",\n",
    "                        \"column_10\": f\"buy_volume_avg_{window}\",\n",
    "                        \"column_11\": f\"sell_volume_avg_{window}\",\n",
    "                        \"column_12\": f\"delta_volume_avg_{window}\",\n",
    "                        \"column_13\": f\"buy_volume_std_{window}\",\n",
    "                        \"column_14\": f\"sell_volume_std_{window}\",\n",
    "                        \"column_15\": f\"delta_volume_std_{window}\"})\n",
    "        features_df = features_df.join(df, on=\"time\")\n",
    "    return features_df"
   ]
  },
  {
   "cell_type": "code",
   "execution_count": 3,
   "metadata": {},
   "outputs": [],
   "source": [
    "def get_agg_data(trading_pair: str, download_dir: str, date: datetime):\n",
    "    trading_pair = trading_pair.upper()\n",
    "    file = f\"./{download_dir}/{trading_pair}-trades-{date.strftime('%Y-%m-%d')}.csv\"\n",
    "    agg_data = get_features_df(pl.read_csv(file))\n",
    "    os.remove(file)\n",
    "    return agg_data"
   ]
  },
  {
   "cell_type": "code",
   "execution_count": 4,
   "metadata": {},
   "outputs": [],
   "source": [
    "def get_clusters_data(trading_pair: str, from_date: datetime, number_of_days: int, download_dir: str):\n",
    "    trading_pair = trading_pair.upper()\n",
    "    date_list = [from_date - datetime.timedelta(days=x) for x in range(1, number_of_days + 1)]\n",
    "    os.makedirs(download_dir, exist_ok=True)\n",
    "    data = pl.DataFrame()\n",
    "    print(f\"DOWNLOADING {number_of_days} FILES TO {download_dir} AND GENERATING CLUSTERS\")\n",
    "    for current_date in tqdm(date_list):\n",
    "        try:\n",
    "            zip_file_path = f\"./{download_dir}/{trading_pair}_{current_date.strftime('%Y-%m-%d')}.zip\"\n",
    "            urllib.request.urlretrieve(f\"https://data.binance.vision/data/futures/um/daily/trades/{trading_pair}/{trading_pair}-trades-{current_date.strftime('%Y-%m-%d')}.zip\", zip_file_path)\n",
    "            with zipfile.ZipFile(zip_file_path, 'r') as zip_ref:\n",
    "                zip_ref.extractall(download_dir)\n",
    "            os.remove(zip_file_path)\n",
    "            agg_data = get_agg_data(trading_pair, download_dir, current_date)\n",
    "            data = pl.concat([data, agg_data])\n",
    "        except Exception as e:\n",
    "            print(f\"Something went wrong with {trading_pair} {current_date}: {e}\")\n",
    "    return data"
   ]
  },
  {
   "cell_type": "code",
   "execution_count": 5,
   "metadata": {},
   "outputs": [
    {
     "name": "stdout",
     "output_type": "stream",
     "text": [
      "DOWNLOADING 136 FILES TO ETHUSDT_trades AND GENERATING CLUSTERS\n"
     ]
    },
    {
     "name": "stderr",
     "output_type": "stream",
     "text": [
      "  0%|          | 0/136 [00:00<?, ?it/s]/home/sevenineone/anaconda3/envs/rl/lib/python3.8/site-packages/numpy/lib/function_base.py:518: RuntimeWarning: Mean of empty slice.\n",
      "  avg = a.mean(axis, **keepdims_kw)\n",
      "/home/sevenineone/anaconda3/envs/rl/lib/python3.8/site-packages/numpy/core/_methods.py:190: RuntimeWarning: invalid value encountered in double_scalars\n",
      "  ret = ret.dtype.type(ret / rcount)\n",
      "/home/sevenineone/anaconda3/envs/rl/lib/python3.8/site-packages/numpy/core/_methods.py:265: RuntimeWarning: Degrees of freedom <= 0 for slice\n",
      "  ret = _var(a, axis=axis, dtype=dtype, out=out, ddof=ddof,\n",
      "/home/sevenineone/anaconda3/envs/rl/lib/python3.8/site-packages/numpy/core/_methods.py:223: RuntimeWarning: invalid value encountered in divide\n",
      "  arrmean = um.true_divide(arrmean, div, out=arrmean, casting='unsafe',\n",
      "/home/sevenineone/anaconda3/envs/rl/lib/python3.8/site-packages/numpy/core/_methods.py:257: RuntimeWarning: invalid value encountered in double_scalars\n",
      "  ret = ret.dtype.type(ret / rcount)\n",
      "100%|██████████| 136/136 [37:36<00:00, 16.59s/it] \n"
     ]
    }
   ],
   "source": [
    "trading_pair = \"ETHUSDT\"\n",
    "trading_pair = trading_pair.upper()\n",
    "from_date = datetime.datetime.strptime('23032023', \"%d%m%Y\").date()\n",
    "download_dir = f\"./{trading_pair}_daily_trades_data_{from_date.strftime('%Y-%m-%d')}\"\n",
    "x = get_clusters_data(trading_pair, from_date, 136, \"ETHUSDT_trades\")"
   ]
  },
  {
   "cell_type": "code",
   "execution_count": 6,
   "metadata": {},
   "outputs": [
    {
     "data": {
      "text/plain": [
       "(195820, 61)"
      ]
     },
     "execution_count": 6,
     "metadata": {},
     "output_type": "execute_result"
    }
   ],
   "source": [
    "x.shape"
   ]
  },
  {
   "cell_type": "code",
   "execution_count": 7,
   "metadata": {},
   "outputs": [
    {
     "data": {
      "text/html": [
       "<div><style>\n",
       ".dataframe > thead > tr > th,\n",
       ".dataframe > tbody > tr > td {\n",
       "  text-align: right;\n",
       "}\n",
       "</style>\n",
       "<small>shape: (5, 61)</small><table border=\"1\" class=\"dataframe\"><thead><tr><th>time</th><th>buy_cnt_5</th><th>sell_cnt_5</th><th>buy_avg_5</th><th>sell_avg_5</th><th>buy_std_5</th><th>sell_std_5</th><th>buy_volume_sum_5</th><th>sell_volume_sum_5</th><th>delta_volume_sum_5</th><th>buy_volume_avg_5</th><th>sell_volume_avg_5</th><th>delta_volume_avg_5</th><th>buy_volume_std_5</th><th>sell_volume_std_5</th><th>delta_volume_std_5</th><th>buy_cnt_10</th><th>sell_cnt_10</th><th>buy_avg_10</th><th>sell_avg_10</th><th>buy_std_10</th><th>sell_std_10</th><th>buy_volume_sum_10</th><th>sell_volume_sum_10</th><th>delta_volume_sum_10</th><th>buy_volume_avg_10</th><th>sell_volume_avg_10</th><th>delta_volume_avg_10</th><th>buy_volume_std_10</th><th>sell_volume_std_10</th><th>delta_volume_std_10</th><th>buy_cnt_30</th><th>sell_cnt_30</th><th>buy_avg_30</th><th>sell_avg_30</th><th>buy_std_30</th><th>sell_std_30</th><th>buy_volume_sum_30</th><th>sell_volume_sum_30</th><th>delta_volume_sum_30</th><th>buy_volume_avg_30</th><th>sell_volume_avg_30</th><th>delta_volume_avg_30</th><th>buy_volume_std_30</th><th>sell_volume_std_30</th><th>delta_volume_std_30</th><th>buy_cnt_60</th><th>sell_cnt_60</th><th>buy_avg_60</th><th>sell_avg_60</th><th>buy_std_60</th><th>sell_std_60</th><th>buy_volume_sum_60</th><th>sell_volume_sum_60</th><th>delta_volume_sum_60</th><th>buy_volume_avg_60</th><th>sell_volume_avg_60</th><th>delta_volume_avg_60</th><th>buy_volume_std_60</th><th>sell_volume_std_60</th><th>delta_volume_std_60</th></tr><tr><td>datetime[μs]</td><td>i64</td><td>i64</td><td>f64</td><td>f64</td><td>f64</td><td>f64</td><td>f64</td><td>f64</td><td>f64</td><td>f64</td><td>f64</td><td>f64</td><td>f64</td><td>f64</td><td>f64</td><td>i64</td><td>i64</td><td>f64</td><td>f64</td><td>f64</td><td>f64</td><td>f64</td><td>f64</td><td>f64</td><td>f64</td><td>f64</td><td>f64</td><td>f64</td><td>f64</td><td>f64</td><td>i64</td><td>i64</td><td>f64</td><td>f64</td><td>f64</td><td>f64</td><td>f64</td><td>f64</td><td>f64</td><td>f64</td><td>f64</td><td>f64</td><td>f64</td><td>f64</td><td>f64</td><td>i64</td><td>i64</td><td>f64</td><td>f64</td><td>f64</td><td>f64</td><td>f64</td><td>f64</td><td>f64</td><td>f64</td><td>f64</td><td>f64</td><td>f64</td><td>f64</td><td>f64</td></tr></thead><tbody><tr><td>2023-03-22 00:01:00</td><td>67</td><td>60</td><td>1800.544099</td><td>1800.524901</td><td>0.056274</td><td>0.046173</td><td>81.222</td><td>84.937</td><td>-3.715</td><td>1.212269</td><td>1.415617</td><td>-0.203348</td><td>1.596876</td><td>2.588765</td><td>-0.991889</td><td>268</td><td>84</td><td>1800.73956</td><td>1800.564225</td><td>0.191023</td><td>0.123568</td><td>322.352</td><td>100.738</td><td>221.614</td><td>1.202806</td><td>1.199262</td><td>0.003544</td><td>2.348393</td><td>2.244956</td><td>0.103437</td><td>702</td><td>495</td><td>1800.806609</td><td>1800.806885</td><td>0.216716</td><td>0.246771</td><td>996.378</td><td>516.261</td><td>480.117</td><td>1.419342</td><td>1.042952</td><td>0.37639</td><td>2.378116</td><td>2.443398</td><td>-0.065282</td><td>1698</td><td>1346</td><td>1800.328165</td><td>1800.51863</td><td>0.533397</td><td>0.37928</td><td>2516.951</td><td>1826.836</td><td>690.115</td><td>1.482303</td><td>1.357233</td><td>0.12507</td><td>2.714384</td><td>3.227377</td><td>-0.512994</td></tr><tr><td>2023-03-22 00:02:00</td><td>69</td><td>135</td><td>1800.078015</td><td>1800.000037</td><td>0.142564</td><td>0.119596</td><td>45.214</td><td>110.33</td><td>-65.116</td><td>0.655275</td><td>0.817259</td><td>-0.161984</td><td>1.018594</td><td>1.613973</td><td>-0.595379</td><td>129</td><td>150</td><td>1799.996157</td><td>1799.996911</td><td>0.10347</td><td>0.115979</td><td>130.322</td><td>118.523</td><td>11.799</td><td>1.010248</td><td>0.790153</td><td>0.220095</td><td>2.259382</td><td>1.554</td><td>0.705381</td><td>589</td><td>295</td><td>1800.349381</td><td>1800.171108</td><td>0.32347</td><td>0.301491</td><td>1091.764</td><td>245.161</td><td>846.603</td><td>1.853589</td><td>0.831054</td><td>1.022535</td><td>3.664287</td><td>1.798239</td><td>1.866048</td><td>1252</td><td>901</td><td>1800.64112</td><td>1800.686928</td><td>0.42539</td><td>0.437909</td><td>2022.238</td><td>889.131</td><td>1133.107</td><td>1.615206</td><td>0.986827</td><td>0.628379</td><td>3.464173</td><td>2.182003</td><td>1.28217</td></tr><tr><td>2023-03-22 00:03:00</td><td>35</td><td>8</td><td>1800.1898</td><td>1800.088906</td><td>0.005172</td><td>0.056668</td><td>75.794</td><td>1.453</td><td>74.341</td><td>2.165543</td><td>0.181625</td><td>1.983918</td><td>3.513629</td><td>0.175934</td><td>3.337695</td><td>41</td><td>56</td><td>1800.189088</td><td>1800.026114</td><td>0.010225</td><td>0.04384</td><td>77.151</td><td>31.223</td><td>45.928</td><td>1.881732</td><td>0.557554</td><td>1.324178</td><td>3.319181</td><td>1.350108</td><td>1.969073</td><td>265</td><td>252</td><td>1800.194365</td><td>1800.230629</td><td>0.186173</td><td>0.237156</td><td>366.029</td><td>193.151</td><td>172.878</td><td>1.381242</td><td>0.766472</td><td>0.614769</td><td>2.828735</td><td>1.875911</td><td>0.952824</td><td>794</td><td>724</td><td>1800.095381</td><td>1800.258023</td><td>0.300812</td><td>0.342003</td><td>1417.074</td><td>596.13</td><td>820.944</td><td>1.784728</td><td>0.823384</td><td>0.961344</td><td>9.188564</td><td>1.786539</td><td>7.402025</td></tr><tr><td>2023-03-22 00:04:00</td><td>5</td><td>1</td><td>1800.53</td><td>1800.54</td><td>2.2737e-13</td><td>0.0</td><td>12.009</td><td>0.057</td><td>11.952</td><td>2.4018</td><td>0.057</td><td>2.3448</td><td>4.35632</td><td>0.0</td><td>4.35632</td><td>16</td><td>59</td><td>1800.470101</td><td>1800.446887</td><td>0.10094</td><td>0.091021</td><td>16.753</td><td>35.355</td><td>-18.602</td><td>1.0470625</td><td>0.599237</td><td>0.447825</td><td>2.618432</td><td>1.023813</td><td>1.594618</td><td>243</td><td>220</td><td>1800.639524</td><td>1800.654432</td><td>0.299018</td><td>0.275154</td><td>239.508</td><td>359.56</td><td>-120.052</td><td>0.98563</td><td>1.634364</td><td>-0.648734</td><td>2.275591</td><td>3.813512</td><td>-1.537921</td><td>409</td><td>502</td><td>1800.464266</td><td>1800.55455</td><td>0.312184</td><td>0.258209</td><td>416.569</td><td>705.516</td><td>-288.947</td><td>1.018506</td><td>1.40541</td><td>-0.386904</td><td>2.18445</td><td>5.576778</td><td>-3.392328</td></tr><tr><td>2023-03-22 00:05:00</td><td>11</td><td>9</td><td>1800.44</td><td>1800.45</td><td>0.0</td><td>2.2737e-13</td><td>10.945</td><td>3.22</td><td>7.725</td><td>0.995</td><td>0.357778</td><td>0.637222</td><td>1.57972</td><td>0.722845</td><td>0.856874</td><td>38</td><td>58</td><td>1800.384951</td><td>1800.15801</td><td>0.110464</td><td>0.201568</td><td>19.973</td><td>20.844</td><td>-0.871</td><td>0.525605</td><td>0.359379</td><td>0.166226</td><td>0.921473</td><td>0.752717</td><td>0.168755</td><td>211</td><td>170</td><td>1800.398836</td><td>1800.322505</td><td>0.260751</td><td>0.224136</td><td>142.519</td><td>61.368</td><td>81.151</td><td>0.675445</td><td>0.360988</td><td>0.314457</td><td>1.40948</td><td>0.799454</td><td>0.610026</td><td>552</td><td>444</td><td>1800.366757</td><td>1800.152589</td><td>0.184849</td><td>0.189314</td><td>449.728</td><td>449.707</td><td>0.021</td><td>0.814725</td><td>1.012854</td><td>-0.198129</td><td>1.946279</td><td>2.491117</td><td>-0.544838</td></tr></tbody></table></div>"
      ],
      "text/plain": [
       "shape: (5, 61)\n",
       "┌──────────┬─────────┬──────────┬──────────┬───┬────────────┬────────────┬────────────┬────────────┐\n",
       "│ time     ┆ buy_cnt ┆ sell_cnt ┆ buy_avg_ ┆ … ┆ delta_volu ┆ buy_volume ┆ sell_volum ┆ delta_volu │\n",
       "│ ---      ┆ _5      ┆ _5       ┆ 5        ┆   ┆ me_avg_60  ┆ _std_60    ┆ e_std_60   ┆ me_std_60  │\n",
       "│ datetime ┆ ---     ┆ ---      ┆ ---      ┆   ┆ ---        ┆ ---        ┆ ---        ┆ ---        │\n",
       "│ [μs]     ┆ i64     ┆ i64      ┆ f64      ┆   ┆ f64        ┆ f64        ┆ f64        ┆ f64        │\n",
       "╞══════════╪═════════╪══════════╪══════════╪═══╪════════════╪════════════╪════════════╪════════════╡\n",
       "│ 2023-03- ┆ 67      ┆ 60       ┆ 1800.544 ┆ … ┆ 0.12507    ┆ 2.714384   ┆ 3.227377   ┆ -0.512994  │\n",
       "│ 22       ┆         ┆          ┆ 099      ┆   ┆            ┆            ┆            ┆            │\n",
       "│ 00:01:00 ┆         ┆          ┆          ┆   ┆            ┆            ┆            ┆            │\n",
       "│ 2023-03- ┆ 69      ┆ 135      ┆ 1800.078 ┆ … ┆ 0.628379   ┆ 3.464173   ┆ 2.182003   ┆ 1.28217    │\n",
       "│ 22       ┆         ┆          ┆ 015      ┆   ┆            ┆            ┆            ┆            │\n",
       "│ 00:02:00 ┆         ┆          ┆          ┆   ┆            ┆            ┆            ┆            │\n",
       "│ 2023-03- ┆ 35      ┆ 8        ┆ 1800.189 ┆ … ┆ 0.961344   ┆ 9.188564   ┆ 1.786539   ┆ 7.402025   │\n",
       "│ 22       ┆         ┆          ┆ 8        ┆   ┆            ┆            ┆            ┆            │\n",
       "│ 00:03:00 ┆         ┆          ┆          ┆   ┆            ┆            ┆            ┆            │\n",
       "│ 2023-03- ┆ 5       ┆ 1        ┆ 1800.53  ┆ … ┆ -0.386904  ┆ 2.18445    ┆ 5.576778   ┆ -3.392328  │\n",
       "│ 22       ┆         ┆          ┆          ┆   ┆            ┆            ┆            ┆            │\n",
       "│ 00:04:00 ┆         ┆          ┆          ┆   ┆            ┆            ┆            ┆            │\n",
       "│ 2023-03- ┆ 11      ┆ 9        ┆ 1800.44  ┆ … ┆ -0.198129  ┆ 1.946279   ┆ 2.491117   ┆ -0.544838  │\n",
       "│ 22       ┆         ┆          ┆          ┆   ┆            ┆            ┆            ┆            │\n",
       "│ 00:05:00 ┆         ┆          ┆          ┆   ┆            ┆            ┆            ┆            │\n",
       "└──────────┴─────────┴──────────┴──────────┴───┴────────────┴────────────┴────────────┴────────────┘"
      ]
     },
     "execution_count": 7,
     "metadata": {},
     "output_type": "execute_result"
    }
   ],
   "source": [
    "x.head()"
   ]
  },
  {
   "cell_type": "code",
   "execution_count": 8,
   "metadata": {},
   "outputs": [],
   "source": [
    "x = x.sort(\"time\")"
   ]
  },
  {
   "cell_type": "code",
   "execution_count": 9,
   "metadata": {},
   "outputs": [],
   "source": [
    "x.write_parquet(\"./ETHUSDT_features_136_23032023.parquet\")"
   ]
  }
 ],
 "metadata": {
  "kernelspec": {
   "display_name": "rl",
   "language": "python",
   "name": "python3"
  },
  "language_info": {
   "codemirror_mode": {
    "name": "ipython",
    "version": 3
   },
   "file_extension": ".py",
   "mimetype": "text/x-python",
   "name": "python",
   "nbconvert_exporter": "python",
   "pygments_lexer": "ipython3",
   "version": "3.8.15"
  },
  "orig_nbformat": 4
 },
 "nbformat": 4,
 "nbformat_minor": 2
}
