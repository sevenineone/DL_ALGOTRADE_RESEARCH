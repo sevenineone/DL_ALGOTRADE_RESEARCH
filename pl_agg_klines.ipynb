{
 "cells": [
  {
   "cell_type": "code",
   "execution_count": 1,
   "metadata": {},
   "outputs": [],
   "source": [
    "import polars as pl\n",
    "import numpy as np\n",
    "import os\n",
    "import datetime\n",
    "import urllib.request\n",
    "from tqdm import tqdm\n",
    "import zipfile"
   ]
  },
  {
   "cell_type": "code",
   "execution_count": 2,
   "metadata": {},
   "outputs": [],
   "source": [
    "def get_klines_data(trading_pair: str, from_date: datetime, number_of_days: int, download_dir: str):\n",
    "    trading_pair = trading_pair.upper()\n",
    "    date_list = [from_date - datetime.timedelta(days=x) for x in range(1, number_of_days + 1)]\n",
    "    os.makedirs(download_dir, exist_ok=True)\n",
    "    data = pl.DataFrame()\n",
    "    print(f\"DOWNLOADING {number_of_days} FILES TO {download_dir} AND GENERATING klines\")\n",
    "    for current_date in tqdm(date_list):\n",
    "        try:\n",
    "            zip_file_path = f\"./{download_dir}/{trading_pair}_{current_date.strftime('%Y-%m-%d')}\"\n",
    "            urllib.request.urlretrieve(f\"https://data.binance.vision/data/futures/um/daily/klines/{trading_pair}/1m/{trading_pair}-1m-{current_date.strftime('%Y-%m-%d')}.zip\", zip_file_path)\n",
    "            with zipfile.ZipFile(zip_file_path, 'r') as zip_ref:\n",
    "                zip_ref.extractall(download_dir)\n",
    "            os.remove(zip_file_path)\n",
    "            file = f\"./{download_dir}/{trading_pair}-1m-{current_date.strftime('%Y-%m-%d')}.csv\"\n",
    "            downloaded = pl.read_csv(file)\n",
    "            os.remove(file)\n",
    "            downloaded = downloaded.select(pl.col([\"close_time\", \"open\", \"high\", \"low\", \"close\", \"volume\"]))\n",
    "            downloaded = downloaded.rename({\"close_time\": \"time\"})\n",
    "            downloaded = downloaded.lazy().with_columns(pl.from_epoch(\"time\", unit='ms'))\n",
    "            downloaded = downloaded.lazy().with_columns(pl.from_epoch(\"time\", unit='us')).collect()\n",
    "            data = pl.concat([data, downloaded])\n",
    "        except Exception as e:\n",
    "            print(f\"Something went wrong with {trading_pair} {current_date}: {e}\")\n",
    "    return data"
   ]
  },
  {
   "cell_type": "code",
   "execution_count": 3,
   "metadata": {},
   "outputs": [
    {
     "name": "stdout",
     "output_type": "stream",
     "text": [
      "DOWNLOADING 136 FILES TO SOLUSDT_trades AND GENERATING klines\n"
     ]
    },
    {
     "name": "stderr",
     "output_type": "stream",
     "text": [
      "100%|██████████| 136/136 [03:31<00:00,  1.55s/it]\n"
     ]
    }
   ],
   "source": [
    "trading_pair = \"ETHUSDT\"\n",
    "trading_pair = trading_pair.upper()\n",
    "from_date = datetime.datetime.strptime('23032023', \"%d%m%Y\").date()\n",
    "download_dir = f\"./{trading_pair}_daily_trades_data_{from_date.strftime('%Y-%m-%d')}\"\n",
    "df = get_klines_data(trading_pair, from_date, 136, \"SOLUSDT_trades\")"
   ]
  },
  {
   "cell_type": "code",
   "execution_count": 4,
   "metadata": {},
   "outputs": [
    {
     "data": {
      "text/plain": [
       "(195840, 6)"
      ]
     },
     "execution_count": 4,
     "metadata": {},
     "output_type": "execute_result"
    }
   ],
   "source": [
    "df.shape"
   ]
  },
  {
   "cell_type": "code",
   "execution_count": 5,
   "metadata": {},
   "outputs": [
    {
     "data": {
      "text/html": [
       "<div><style>\n",
       ".dataframe > thead > tr > th,\n",
       ".dataframe > tbody > tr > td {\n",
       "  text-align: right;\n",
       "}\n",
       "</style>\n",
       "<small>shape: (30, 6)</small><table border=\"1\" class=\"dataframe\"><thead><tr><th>time</th><th>open</th><th>high</th><th>low</th><th>close</th><th>volume</th></tr><tr><td>datetime[μs]</td><td>f64</td><td>f64</td><td>f64</td><td>f64</td><td>f64</td></tr></thead><tbody><tr><td>2023-03-22 00:00:59.999</td><td>1800.13</td><td>1801.23</td><td>1799.26</td><td>1800.47</td><td>4343.787</td></tr><tr><td>2023-03-22 00:01:59.999</td><td>1800.46</td><td>1801.53</td><td>1799.89</td><td>1800.31</td><td>2911.369</td></tr><tr><td>2023-03-22 00:02:59.999</td><td>1800.31</td><td>1801.06</td><td>1799.53</td><td>1800.06</td><td>2013.204</td></tr><tr><td>2023-03-22 00:03:59.999</td><td>1800.06</td><td>1801.13</td><td>1800.05</td><td>1800.53</td><td>1122.085</td></tr><tr><td>2023-03-22 00:04:59.999</td><td>1800.53</td><td>1800.77</td><td>1799.95</td><td>1800.44</td><td>899.435</td></tr><tr><td>2023-03-22 00:05:59.999</td><td>1800.45</td><td>1800.61</td><td>1799.34</td><td>1799.57</td><td>1290.049</td></tr><tr><td>2023-03-22 00:06:59.999</td><td>1799.56</td><td>1799.92</td><td>1798.61</td><td>1799.39</td><td>2458.971</td></tr><tr><td>2023-03-22 00:07:59.999</td><td>1799.39</td><td>1799.73</td><td>1798.54</td><td>1799.33</td><td>898.287</td></tr><tr><td>2023-03-22 00:08:59.999</td><td>1799.33</td><td>1800.53</td><td>1799.25</td><td>1799.41</td><td>1242.306</td></tr><tr><td>2023-03-22 00:09:59.999</td><td>1799.41</td><td>1799.41</td><td>1798.52</td><td>1798.67</td><td>1092.521</td></tr><tr><td>2023-03-22 00:10:59.999</td><td>1798.66</td><td>1799.25</td><td>1798.51</td><td>1798.67</td><td>1012.687</td></tr><tr><td>2023-03-22 00:11:59.999</td><td>1798.66</td><td>1799.63</td><td>1798.52</td><td>1798.56</td><td>640.304</td></tr><tr><td>&hellip;</td><td>&hellip;</td><td>&hellip;</td><td>&hellip;</td><td>&hellip;</td><td>&hellip;</td></tr><tr><td>2023-03-22 00:18:59.999</td><td>1798.54</td><td>1799.33</td><td>1798.3</td><td>1798.44</td><td>828.546</td></tr><tr><td>2023-03-22 00:19:59.999</td><td>1798.44</td><td>1798.44</td><td>1796.1</td><td>1797.66</td><td>3632.512</td></tr><tr><td>2023-03-22 00:20:59.999</td><td>1797.66</td><td>1798.82</td><td>1797.66</td><td>1797.87</td><td>795.756</td></tr><tr><td>2023-03-22 00:21:59.999</td><td>1797.86</td><td>1797.86</td><td>1796.52</td><td>1796.85</td><td>1136.968</td></tr><tr><td>2023-03-22 00:22:59.999</td><td>1796.85</td><td>1796.93</td><td>1796.11</td><td>1796.56</td><td>948.906</td></tr><tr><td>2023-03-22 00:23:59.999</td><td>1796.56</td><td>1797.33</td><td>1796.19</td><td>1797.14</td><td>1606.648</td></tr><tr><td>2023-03-22 00:24:59.999</td><td>1797.15</td><td>1797.15</td><td>1796.57</td><td>1796.81</td><td>701.508</td></tr><tr><td>2023-03-22 00:25:59.999</td><td>1796.81</td><td>1798.29</td><td>1796.8</td><td>1798.29</td><td>1371.323</td></tr><tr><td>2023-03-22 00:26:59.999</td><td>1798.29</td><td>1798.3</td><td>1796.99</td><td>1798.28</td><td>870.258</td></tr><tr><td>2023-03-22 00:27:59.999</td><td>1798.28</td><td>1798.28</td><td>1796.86</td><td>1796.87</td><td>465.992</td></tr><tr><td>2023-03-22 00:28:59.999</td><td>1796.86</td><td>1796.87</td><td>1796.04</td><td>1796.66</td><td>708.773</td></tr><tr><td>2023-03-22 00:29:59.999</td><td>1796.66</td><td>1797.64</td><td>1795.32</td><td>1795.32</td><td>1908.364</td></tr></tbody></table></div>"
      ],
      "text/plain": [
       "shape: (30, 6)\n",
       "┌─────────────────────────┬─────────┬─────────┬─────────┬─────────┬──────────┐\n",
       "│ time                    ┆ open    ┆ high    ┆ low     ┆ close   ┆ volume   │\n",
       "│ ---                     ┆ ---     ┆ ---     ┆ ---     ┆ ---     ┆ ---      │\n",
       "│ datetime[μs]            ┆ f64     ┆ f64     ┆ f64     ┆ f64     ┆ f64      │\n",
       "╞═════════════════════════╪═════════╪═════════╪═════════╪═════════╪══════════╡\n",
       "│ 2023-03-22 00:00:59.999 ┆ 1800.13 ┆ 1801.23 ┆ 1799.26 ┆ 1800.47 ┆ 4343.787 │\n",
       "│ 2023-03-22 00:01:59.999 ┆ 1800.46 ┆ 1801.53 ┆ 1799.89 ┆ 1800.31 ┆ 2911.369 │\n",
       "│ 2023-03-22 00:02:59.999 ┆ 1800.31 ┆ 1801.06 ┆ 1799.53 ┆ 1800.06 ┆ 2013.204 │\n",
       "│ 2023-03-22 00:03:59.999 ┆ 1800.06 ┆ 1801.13 ┆ 1800.05 ┆ 1800.53 ┆ 1122.085 │\n",
       "│ …                       ┆ …       ┆ …       ┆ …       ┆ …       ┆ …        │\n",
       "│ 2023-03-22 00:26:59.999 ┆ 1798.29 ┆ 1798.3  ┆ 1796.99 ┆ 1798.28 ┆ 870.258  │\n",
       "│ 2023-03-22 00:27:59.999 ┆ 1798.28 ┆ 1798.28 ┆ 1796.86 ┆ 1796.87 ┆ 465.992  │\n",
       "│ 2023-03-22 00:28:59.999 ┆ 1796.86 ┆ 1796.87 ┆ 1796.04 ┆ 1796.66 ┆ 708.773  │\n",
       "│ 2023-03-22 00:29:59.999 ┆ 1796.66 ┆ 1797.64 ┆ 1795.32 ┆ 1795.32 ┆ 1908.364 │\n",
       "└─────────────────────────┴─────────┴─────────┴─────────┴─────────┴──────────┘"
      ]
     },
     "execution_count": 5,
     "metadata": {},
     "output_type": "execute_result"
    }
   ],
   "source": [
    "df.head(30)"
   ]
  },
  {
   "cell_type": "code",
   "execution_count": 6,
   "metadata": {},
   "outputs": [],
   "source": [
    "df.write_parquet(\"./ETHUSDT_KLINES_136_23032023.parquet\")"
   ]
  }
 ],
 "metadata": {
  "kernelspec": {
   "display_name": "rl",
   "language": "python",
   "name": "python3"
  },
  "language_info": {
   "codemirror_mode": {
    "name": "ipython",
    "version": 3
   },
   "file_extension": ".py",
   "mimetype": "text/x-python",
   "name": "python",
   "nbconvert_exporter": "python",
   "pygments_lexer": "ipython3",
   "version": "3.8.15"
  },
  "orig_nbformat": 4
 },
 "nbformat": 4,
 "nbformat_minor": 2
}
