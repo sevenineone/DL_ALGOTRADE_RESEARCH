{
 "cells": [
  {
   "cell_type": "code",
   "execution_count": 1,
   "metadata": {},
   "outputs": [],
   "source": [
    "import polars as pl\n",
    "import numpy as np\n",
    "import os\n",
    "import datetime\n",
    "import urllib.request\n",
    "from tqdm import tqdm\n",
    "import zipfile"
   ]
  },
  {
   "cell_type": "code",
   "execution_count": 2,
   "metadata": {},
   "outputs": [],
   "source": [
    "def get_klines_data(trading_pair: str, from_date: datetime, number_of_days: int, download_dir: str):\n",
    "    trading_pair = trading_pair.upper()\n",
    "    date_list = [from_date - datetime.timedelta(days=x) for x in range(1, number_of_days + 1)]\n",
    "    os.makedirs(download_dir, exist_ok=True)\n",
    "    data = pl.DataFrame()\n",
    "    print(f\"DOWNLOADING {number_of_days} FILES TO {download_dir} AND GENERATING index price klines\")\n",
    "    for current_date in tqdm(date_list):\n",
    "        try:\n",
    "            zip_file_path = f\"./{download_dir}/{trading_pair}_{current_date.strftime('%Y-%m-%d')}\"\n",
    "            urllib.request.urlretrieve(f\"https://data.binance.vision/data/futures/um/daily/indexPriceKlines/{trading_pair}/1m/{trading_pair}-1m-{current_date.strftime('%Y-%m-%d')}.zip\", zip_file_path)\n",
    "            with zipfile.ZipFile(zip_file_path, 'r') as zip_ref:\n",
    "                zip_ref.extractall(download_dir)\n",
    "            os.remove(zip_file_path)\n",
    "            file = f\"./{download_dir}/{trading_pair}-1m-{current_date.strftime('%Y-%m-%d')}.csv\"\n",
    "            downloaded = pl.read_csv(file)\n",
    "            os.remove(file)\n",
    "            downloaded = downloaded.select(pl.col([\"close_time\", \"open\", \"high\", \"low\", \"close\"]))\n",
    "            downloaded = downloaded.rename({\"close_time\": \"time\"})\n",
    "            downloaded = downloaded.lazy().with_columns(pl.from_epoch(\"time\", unit='ms'))\n",
    "            downloaded = downloaded.lazy().with_columns(pl.from_epoch(\"time\", unit='us')).collect()\n",
    "            data = pl.concat([data, downloaded])\n",
    "        except Exception as e:\n",
    "            print(f\"Something went wrong with {trading_pair} {current_date}: {e}\")\n",
    "    return data"
   ]
  },
  {
   "cell_type": "code",
   "execution_count": 3,
   "metadata": {},
   "outputs": [
    {
     "name": "stdout",
     "output_type": "stream",
     "text": [
      "DOWNLOADING 136 FILES TO ETHUSDT_trades AND GENERATING index price klines\n"
     ]
    },
    {
     "name": "stderr",
     "output_type": "stream",
     "text": [
      "100%|██████████| 136/136 [03:07<00:00,  1.38s/it]\n"
     ]
    }
   ],
   "source": [
    "trading_pair = \"ETHUSDT\"\n",
    "trading_pair = trading_pair.upper()\n",
    "from_date = datetime.datetime.strptime('23032023', \"%d%m%Y\").date()\n",
    "download_dir = f\"./{trading_pair}_daily_trades_data_{from_date.strftime('%Y-%m-%d')}\"\n",
    "df = get_klines_data(trading_pair, from_date, 136, \"ETHUSDT_trades\")"
   ]
  },
  {
   "cell_type": "code",
   "execution_count": 4,
   "metadata": {},
   "outputs": [
    {
     "data": {
      "text/plain": [
       "(195840, 5)"
      ]
     },
     "execution_count": 4,
     "metadata": {},
     "output_type": "execute_result"
    }
   ],
   "source": [
    "df.shape"
   ]
  },
  {
   "cell_type": "code",
   "execution_count": 5,
   "metadata": {},
   "outputs": [
    {
     "data": {
      "text/html": [
       "<div><style>\n",
       ".dataframe > thead > tr > th,\n",
       ".dataframe > tbody > tr > td {\n",
       "  text-align: right;\n",
       "}\n",
       "</style>\n",
       "<small>shape: (30, 5)</small><table border=\"1\" class=\"dataframe\"><thead><tr><th>time</th><th>open</th><th>high</th><th>low</th><th>close</th></tr><tr><td>datetime[μs]</td><td>f64</td><td>f64</td><td>f64</td><td>f64</td></tr></thead><tbody><tr><td>2023-03-22 00:00:59.999</td><td>1801.387179</td><td>1801.849231</td><td>1800.702564</td><td>1801.545128</td></tr><tr><td>2023-03-22 00:01:59.999</td><td>1801.545128</td><td>1801.97359</td><td>1800.793333</td><td>1800.950513</td></tr><tr><td>2023-03-22 00:02:59.999</td><td>1800.955641</td><td>1801.485128</td><td>1800.498205</td><td>1800.769487</td></tr><tr><td>2023-03-22 00:03:59.999</td><td>1800.764359</td><td>1801.505641</td><td>1800.764359</td><td>1801.050769</td></tr><tr><td>2023-03-22 00:04:59.999</td><td>1801.073846</td><td>1801.26359</td><td>1800.798462</td><td>1801.144872</td></tr><tr><td>2023-03-22 00:05:59.999</td><td>1801.144872</td><td>1801.180256</td><td>1800.404872</td><td>1800.555897</td></tr><tr><td>2023-03-22 00:06:59.999</td><td>1800.561026</td><td>1800.594103</td><td>1799.745641</td><td>1800.388718</td></tr><tr><td>2023-03-22 00:07:59.999</td><td>1800.378462</td><td>1800.391026</td><td>1799.582564</td><td>1799.713333</td></tr><tr><td>2023-03-22 00:08:59.999</td><td>1799.907179</td><td>1800.967436</td><td>1799.907179</td><td>1800.303846</td></tr><tr><td>2023-03-22 00:09:59.999</td><td>1800.303846</td><td>1800.308974</td><td>1799.734872</td><td>1799.734872</td></tr><tr><td>2023-03-22 00:10:59.999</td><td>1799.74</td><td>1799.814872</td><td>1799.599744</td><td>1799.71359</td></tr><tr><td>2023-03-22 00:11:59.999</td><td>1799.544103</td><td>1800.150513</td><td>1799.519231</td><td>1799.519231</td></tr><tr><td>&hellip;</td><td>&hellip;</td><td>&hellip;</td><td>&hellip;</td><td>&hellip;</td></tr><tr><td>2023-03-22 00:18:59.999</td><td>1799.242564</td><td>1799.917949</td><td>1799.242564</td><td>1799.550769</td></tr><tr><td>2023-03-22 00:19:59.999</td><td>1799.488205</td><td>1799.488205</td><td>1797.328974</td><td>1798.362051</td></tr><tr><td>2023-03-22 00:20:59.999</td><td>1798.366667</td><td>1799.422308</td><td>1798.366667</td><td>1798.89359</td></tr><tr><td>2023-03-22 00:21:59.999</td><td>1798.888462</td><td>1798.888462</td><td>1797.468718</td><td>1797.617692</td></tr><tr><td>2023-03-22 00:22:59.999</td><td>1797.617692</td><td>1797.653077</td><td>1797.277436</td><td>1797.392821</td></tr><tr><td>2023-03-22 00:23:59.999</td><td>1797.392821</td><td>1798.142564</td><td>1797.370513</td><td>1797.561282</td></tr><tr><td>2023-03-22 00:24:59.999</td><td>1797.945641</td><td>1798.017692</td><td>1797.718205</td><td>1797.735641</td></tr><tr><td>2023-03-22 00:25:59.999</td><td>1797.737179</td><td>1799.054872</td><td>1797.737179</td><td>1799.054872</td></tr><tr><td>2023-03-22 00:26:59.999</td><td>1799.054872</td><td>1799.06</td><td>1798.051538</td><td>1798.595641</td></tr><tr><td>2023-03-22 00:27:59.999</td><td>1798.860256</td><td>1798.933077</td><td>1797.978462</td><td>1797.978462</td></tr><tr><td>2023-03-22 00:28:59.999</td><td>1797.862051</td><td>1797.862051</td><td>1797.162564</td><td>1797.439487</td></tr><tr><td>2023-03-22 00:29:59.999</td><td>1797.439487</td><td>1798.201282</td><td>1797.040256</td><td>1797.040256</td></tr></tbody></table></div>"
      ],
      "text/plain": [
       "shape: (30, 5)\n",
       "┌─────────────────────────┬─────────────┬─────────────┬─────────────┬─────────────┐\n",
       "│ time                    ┆ open        ┆ high        ┆ low         ┆ close       │\n",
       "│ ---                     ┆ ---         ┆ ---         ┆ ---         ┆ ---         │\n",
       "│ datetime[μs]            ┆ f64         ┆ f64         ┆ f64         ┆ f64         │\n",
       "╞═════════════════════════╪═════════════╪═════════════╪═════════════╪═════════════╡\n",
       "│ 2023-03-22 00:00:59.999 ┆ 1801.387179 ┆ 1801.849231 ┆ 1800.702564 ┆ 1801.545128 │\n",
       "│ 2023-03-22 00:01:59.999 ┆ 1801.545128 ┆ 1801.97359  ┆ 1800.793333 ┆ 1800.950513 │\n",
       "│ 2023-03-22 00:02:59.999 ┆ 1800.955641 ┆ 1801.485128 ┆ 1800.498205 ┆ 1800.769487 │\n",
       "│ 2023-03-22 00:03:59.999 ┆ 1800.764359 ┆ 1801.505641 ┆ 1800.764359 ┆ 1801.050769 │\n",
       "│ …                       ┆ …           ┆ …           ┆ …           ┆ …           │\n",
       "│ 2023-03-22 00:26:59.999 ┆ 1799.054872 ┆ 1799.06     ┆ 1798.051538 ┆ 1798.595641 │\n",
       "│ 2023-03-22 00:27:59.999 ┆ 1798.860256 ┆ 1798.933077 ┆ 1797.978462 ┆ 1797.978462 │\n",
       "│ 2023-03-22 00:28:59.999 ┆ 1797.862051 ┆ 1797.862051 ┆ 1797.162564 ┆ 1797.439487 │\n",
       "│ 2023-03-22 00:29:59.999 ┆ 1797.439487 ┆ 1798.201282 ┆ 1797.040256 ┆ 1797.040256 │\n",
       "└─────────────────────────┴─────────────┴─────────────┴─────────────┴─────────────┘"
      ]
     },
     "execution_count": 5,
     "metadata": {},
     "output_type": "execute_result"
    }
   ],
   "source": [
    "df.head(30)"
   ]
  },
  {
   "cell_type": "code",
   "execution_count": 6,
   "metadata": {},
   "outputs": [],
   "source": [
    "df.write_parquet(\"./ETHUSDT_INDEX_PRICE_136_23032023.parquet\")"
   ]
  },
  {
   "cell_type": "code",
   "execution_count": null,
   "metadata": {},
   "outputs": [],
   "source": []
  }
 ],
 "metadata": {
  "kernelspec": {
   "display_name": "rl",
   "language": "python",
   "name": "python3"
  },
  "language_info": {
   "codemirror_mode": {
    "name": "ipython",
    "version": 3
   },
   "file_extension": ".py",
   "mimetype": "text/x-python",
   "name": "python",
   "nbconvert_exporter": "python",
   "pygments_lexer": "ipython3",
   "version": "3.8.15"
  },
  "orig_nbformat": 4
 },
 "nbformat": 4,
 "nbformat_minor": 2
}
